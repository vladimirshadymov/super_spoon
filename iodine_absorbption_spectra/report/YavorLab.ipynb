{
 "cells": [
  {
   "cell_type": "code",
   "execution_count": 44,
   "metadata": {},
   "outputs": [],
   "source": [
    "from scipy.stats import pearsonr\n",
    "from scipy import stats\n",
    "import pandas as pd\n",
    "import numpy as np"
   ]
  },
  {
   "cell_type": "code",
   "execution_count": 4,
   "metadata": {},
   "outputs": [
    {
     "data": {
      "text/html": [
       "<div>\n",
       "<style scoped>\n",
       "    .dataframe tbody tr th:only-of-type {\n",
       "        vertical-align: middle;\n",
       "    }\n",
       "\n",
       "    .dataframe tbody tr th {\n",
       "        vertical-align: top;\n",
       "    }\n",
       "\n",
       "    .dataframe thead th {\n",
       "        text-align: right;\n",
       "    }\n",
       "</style>\n",
       "<table border=\"1\" class=\"dataframe\">\n",
       "  <thead>\n",
       "    <tr style=\"text-align: right;\">\n",
       "      <th></th>\n",
       "      <th>m</th>\n",
       "      <th>r2</th>\n",
       "      <th>err</th>\n",
       "    </tr>\n",
       "  </thead>\n",
       "  <tbody>\n",
       "    <tr>\n",
       "      <th>0</th>\n",
       "      <td>1</td>\n",
       "      <td>8.42724</td>\n",
       "      <td>1.836000</td>\n",
       "    </tr>\n",
       "    <tr>\n",
       "      <th>1</th>\n",
       "      <td>2</td>\n",
       "      <td>15.76280</td>\n",
       "      <td>2.511000</td>\n",
       "    </tr>\n",
       "    <tr>\n",
       "      <th>2</th>\n",
       "      <td>3</td>\n",
       "      <td>22.18610</td>\n",
       "      <td>2.979000</td>\n",
       "    </tr>\n",
       "    <tr>\n",
       "      <th>3</th>\n",
       "      <td>4</td>\n",
       "      <td>28.93400</td>\n",
       "      <td>3.401999</td>\n",
       "    </tr>\n",
       "    <tr>\n",
       "      <th>4</th>\n",
       "      <td>5</td>\n",
       "      <td>35.04380</td>\n",
       "      <td>3.743998</td>\n",
       "    </tr>\n",
       "    <tr>\n",
       "      <th>5</th>\n",
       "      <td>6</td>\n",
       "      <td>41.92250</td>\n",
       "      <td>4.094997</td>\n",
       "    </tr>\n",
       "    <tr>\n",
       "      <th>6</th>\n",
       "      <td>7</td>\n",
       "      <td>49.41720</td>\n",
       "      <td>4.445996</td>\n",
       "    </tr>\n",
       "    <tr>\n",
       "      <th>7</th>\n",
       "      <td>8</td>\n",
       "      <td>57.96050</td>\n",
       "      <td>4.814997</td>\n",
       "    </tr>\n",
       "  </tbody>\n",
       "</table>\n",
       "</div>"
      ],
      "text/plain": [
       "   m        r2       err\n",
       "0  1   8.42724  1.836000\n",
       "1  2  15.76280  2.511000\n",
       "2  3  22.18610  2.979000\n",
       "3  4  28.93400  3.401999\n",
       "4  5  35.04380  3.743998\n",
       "5  6  41.92250  4.094997\n",
       "6  7  49.41720  4.445996\n",
       "7  8  57.96050  4.814997"
      ]
     },
     "execution_count": 4,
     "metadata": {},
     "output_type": "execute_result"
    }
   ],
   "source": [
    "dark_circles = pd.read_csv('dark2.csv')\n",
    "dark_circles"
   ]
  },
  {
   "cell_type": "code",
   "execution_count": 5,
   "metadata": {},
   "outputs": [
    {
     "data": {
      "text/html": [
       "<div>\n",
       "<style scoped>\n",
       "    .dataframe tbody tr th:only-of-type {\n",
       "        vertical-align: middle;\n",
       "    }\n",
       "\n",
       "    .dataframe tbody tr th {\n",
       "        vertical-align: top;\n",
       "    }\n",
       "\n",
       "    .dataframe thead th {\n",
       "        text-align: right;\n",
       "    }\n",
       "</style>\n",
       "<table border=\"1\" class=\"dataframe\">\n",
       "  <thead>\n",
       "    <tr style=\"text-align: right;\">\n",
       "      <th></th>\n",
       "      <th>m</th>\n",
       "      <th>r2</th>\n",
       "      <th>err</th>\n",
       "    </tr>\n",
       "  </thead>\n",
       "  <tbody>\n",
       "    <tr>\n",
       "      <th>0</th>\n",
       "      <td>1</td>\n",
       "      <td>5.1194</td>\n",
       "      <td>1.431000</td>\n",
       "    </tr>\n",
       "    <tr>\n",
       "      <th>1</th>\n",
       "      <td>2</td>\n",
       "      <td>11.1830</td>\n",
       "      <td>2.114994</td>\n",
       "    </tr>\n",
       "    <tr>\n",
       "      <th>2</th>\n",
       "      <td>3</td>\n",
       "      <td>19.2099</td>\n",
       "      <td>2.771996</td>\n",
       "    </tr>\n",
       "    <tr>\n",
       "      <th>3</th>\n",
       "      <td>4</td>\n",
       "      <td>24.1025</td>\n",
       "      <td>3.104996</td>\n",
       "    </tr>\n",
       "    <tr>\n",
       "      <th>4</th>\n",
       "      <td>5</td>\n",
       "      <td>31.7552</td>\n",
       "      <td>3.563998</td>\n",
       "    </tr>\n",
       "    <tr>\n",
       "      <th>5</th>\n",
       "      <td>6</td>\n",
       "      <td>38.6712</td>\n",
       "      <td>3.932999</td>\n",
       "    </tr>\n",
       "    <tr>\n",
       "      <th>6</th>\n",
       "      <td>7</td>\n",
       "      <td>44.7322</td>\n",
       "      <td>4.229998</td>\n",
       "    </tr>\n",
       "    <tr>\n",
       "      <th>7</th>\n",
       "      <td>8</td>\n",
       "      <td>52.2579</td>\n",
       "      <td>4.571997</td>\n",
       "    </tr>\n",
       "  </tbody>\n",
       "</table>\n",
       "</div>"
      ],
      "text/plain": [
       "   m       r2       err\n",
       "0  1   5.1194  1.431000\n",
       "1  2  11.1830  2.114994\n",
       "2  3  19.2099  2.771996\n",
       "3  4  24.1025  3.104996\n",
       "4  5  31.7552  3.563998\n",
       "5  6  38.6712  3.932999\n",
       "6  7  44.7322  4.229998\n",
       "7  8  52.2579  4.571997"
      ]
     },
     "execution_count": 5,
     "metadata": {},
     "output_type": "execute_result"
    }
   ],
   "source": [
    "light_circles = pd.read_csv('light2.csv')\n",
    "light_circles"
   ]
  },
  {
   "cell_type": "code",
   "execution_count": 6,
   "metadata": {},
   "outputs": [
    {
     "name": "stdout",
     "output_type": "stream",
     "text": [
      "(0.99905969219558566, 2.0770349408610651e-09)\n"
     ]
    }
   ],
   "source": [
    "print(pearsonr(dark_circles.m,dark_circles.r2))"
   ]
  },
  {
   "cell_type": "code",
   "execution_count": 7,
   "metadata": {},
   "outputs": [
    {
     "name": "stdout",
     "output_type": "stream",
     "text": [
      "(0.99940191276195267, 5.3461210178114322e-10)\n"
     ]
    }
   ],
   "source": [
    "print(pearsonr(light_circles.m,light_circles.r2))"
   ]
  },
  {
   "cell_type": "code",
   "execution_count": 8,
   "metadata": {},
   "outputs": [
    {
     "name": "stdout",
     "output_type": "stream",
     "text": [
      "(0.99925309556248898, 2.9271342677853188e-08)\n"
     ]
    }
   ],
   "source": [
    "x = range(-3,4,1)\n",
    "y = [-632, -388, -200, 0, 188, 384, 564]\n",
    "print(pearsonr(x,y))"
   ]
  },
  {
   "cell_type": "code",
   "execution_count": 29,
   "metadata": {},
   "outputs": [],
   "source": [
    "import statsmodels.api as sm"
   ]
  },
  {
   "cell_type": "code",
   "execution_count": 33,
   "metadata": {},
   "outputs": [
    {
     "name": "stdout",
     "output_type": "stream",
     "text": [
      "                            OLS Regression Results                            \n",
      "==============================================================================\n",
      "Dep. Variable:                     r2   R-squared:                       0.999\n",
      "Model:                            OLS   Adj. R-squared:                  0.999\n",
      "Method:                 Least Squares   F-statistic:                     7540.\n",
      "Date:                Fri, 20 Apr 2018   Prob (F-statistic):           7.08e-12\n",
      "Time:                        01:08:26   Log-Likelihood:                -11.216\n",
      "No. Observations:                   8   AIC:                             24.43\n",
      "Df Residuals:                       7   BIC:                             24.51\n",
      "Df Model:                           1                                         \n",
      "Covariance Type:            nonrobust                                         \n",
      "==============================================================================\n",
      "                 coef    std err          t      P>|t|      [0.025      0.975]\n",
      "------------------------------------------------------------------------------\n",
      "m              6.3898      0.074     86.830      0.000       6.216       6.564\n",
      "==============================================================================\n",
      "Omnibus:                        0.570   Durbin-Watson:                   1.073\n",
      "Prob(Omnibus):                  0.752   Jarque-Bera (JB):                0.484\n",
      "Skew:                           0.026   Prob(JB):                        0.785\n",
      "Kurtosis:                       1.796   Cond. No.                         1.00\n",
      "==============================================================================\n",
      "\n",
      "Warnings:\n",
      "[1] Standard Errors assume that the covariance matrix of the errors is correctly specified.\n"
     ]
    },
    {
     "name": "stderr",
     "output_type": "stream",
     "text": [
      "/home/vladimir/.virtualenvs/plots/lib/python3.5/site-packages/scipy/stats/stats.py:1390: UserWarning: kurtosistest only valid for n>=20 ... continuing anyway, n=8\n",
      "  \"anyway, n=%i\" % int(n))\n"
     ]
    }
   ],
   "source": [
    "lin_reg = sm.OLS(light_circles.r2, light_circles.m)\n",
    "res = lin_reg.fit()\n",
    "print(res.summary())"
   ]
  },
  {
   "cell_type": "code",
   "execution_count": 47,
   "metadata": {},
   "outputs": [
    {
     "data": {
      "text/html": [
       "<div>\n",
       "<style scoped>\n",
       "    .dataframe tbody tr th:only-of-type {\n",
       "        vertical-align: middle;\n",
       "    }\n",
       "\n",
       "    .dataframe tbody tr th {\n",
       "        vertical-align: top;\n",
       "    }\n",
       "\n",
       "    .dataframe thead th {\n",
       "        text-align: right;\n",
       "    }\n",
       "</style>\n",
       "<table border=\"1\" class=\"dataframe\">\n",
       "  <thead>\n",
       "    <tr style=\"text-align: right;\">\n",
       "      <th></th>\n",
       "      <th>m</th>\n",
       "      <th>r2</th>\n",
       "      <th>err</th>\n",
       "      <th>s</th>\n",
       "      <th>pvalue</th>\n",
       "    </tr>\n",
       "  </thead>\n",
       "  <tbody>\n",
       "    <tr>\n",
       "      <th>0</th>\n",
       "      <td>1</td>\n",
       "      <td>8.42724</td>\n",
       "      <td>1.836000</td>\n",
       "      <td>0.695664</td>\n",
       "      <td>0.256334</td>\n",
       "    </tr>\n",
       "    <tr>\n",
       "      <th>1</th>\n",
       "      <td>2</td>\n",
       "      <td>15.76280</td>\n",
       "      <td>2.511000</td>\n",
       "      <td>0.582557</td>\n",
       "      <td>0.290704</td>\n",
       "    </tr>\n",
       "    <tr>\n",
       "      <th>2</th>\n",
       "      <td>3</td>\n",
       "      <td>22.18610</td>\n",
       "      <td>2.979000</td>\n",
       "      <td>0.247096</td>\n",
       "      <td>0.406536</td>\n",
       "    </tr>\n",
       "    <tr>\n",
       "      <th>3</th>\n",
       "      <td>4</td>\n",
       "      <td>28.93400</td>\n",
       "      <td>3.401999</td>\n",
       "      <td>0.098178</td>\n",
       "      <td>0.462495</td>\n",
       "    </tr>\n",
       "    <tr>\n",
       "      <th>4</th>\n",
       "      <td>5</td>\n",
       "      <td>35.04380</td>\n",
       "      <td>3.743998</td>\n",
       "      <td>0.188622</td>\n",
       "      <td>0.428304</td>\n",
       "    </tr>\n",
       "    <tr>\n",
       "      <th>5</th>\n",
       "      <td>6</td>\n",
       "      <td>41.92250</td>\n",
       "      <td>4.094997</td>\n",
       "      <td>0.238706</td>\n",
       "      <td>0.409639</td>\n",
       "    </tr>\n",
       "    <tr>\n",
       "      <th>6</th>\n",
       "      <td>7</td>\n",
       "      <td>49.41720</td>\n",
       "      <td>4.445996</td>\n",
       "      <td>0.142330</td>\n",
       "      <td>0.445739</td>\n",
       "    </tr>\n",
       "    <tr>\n",
       "      <th>7</th>\n",
       "      <td>8</td>\n",
       "      <td>57.96050</td>\n",
       "      <td>4.814997</td>\n",
       "      <td>0.157944</td>\n",
       "      <td>0.439841</td>\n",
       "    </tr>\n",
       "  </tbody>\n",
       "</table>\n",
       "</div>"
      ],
      "text/plain": [
       "   m        r2       err         s    pvalue\n",
       "0  1   8.42724  1.836000  0.695664  0.256334\n",
       "1  2  15.76280  2.511000  0.582557  0.290704\n",
       "2  3  22.18610  2.979000  0.247096  0.406536\n",
       "3  4  28.93400  3.401999  0.098178  0.462495\n",
       "4  5  35.04380  3.743998  0.188622  0.428304\n",
       "5  6  41.92250  4.094997  0.238706  0.409639\n",
       "6  7  49.41720  4.445996  0.142330  0.445739\n",
       "7  8  57.96050  4.814997  0.157944  0.439841"
      ]
     },
     "execution_count": 47,
     "metadata": {},
     "output_type": "execute_result"
    }
   ],
   "source": [
    "dark_circles['s'] = np.abs((dark_circles.r2-dark_circles.m*7.15)/dark_circles.err)\n",
    "dark_circles['pvalue'] = stats.t.sf(dark_circles.s, 6)\n",
    "dark_circles"
   ]
  },
  {
   "cell_type": "code",
   "execution_count": 48,
   "metadata": {},
   "outputs": [
    {
     "data": {
      "text/html": [
       "<div>\n",
       "<style scoped>\n",
       "    .dataframe tbody tr th:only-of-type {\n",
       "        vertical-align: middle;\n",
       "    }\n",
       "\n",
       "    .dataframe tbody tr th {\n",
       "        vertical-align: top;\n",
       "    }\n",
       "\n",
       "    .dataframe thead th {\n",
       "        text-align: right;\n",
       "    }\n",
       "</style>\n",
       "<table border=\"1\" class=\"dataframe\">\n",
       "  <thead>\n",
       "    <tr style=\"text-align: right;\">\n",
       "      <th></th>\n",
       "      <th>m</th>\n",
       "      <th>r2</th>\n",
       "      <th>err</th>\n",
       "      <th>s</th>\n",
       "      <th>pvalue</th>\n",
       "    </tr>\n",
       "  </thead>\n",
       "  <tbody>\n",
       "    <tr>\n",
       "      <th>0</th>\n",
       "      <td>1</td>\n",
       "      <td>5.1194</td>\n",
       "      <td>1.431000</td>\n",
       "      <td>1.019847</td>\n",
       "      <td>0.173574</td>\n",
       "    </tr>\n",
       "    <tr>\n",
       "      <th>1</th>\n",
       "      <td>2</td>\n",
       "      <td>11.1830</td>\n",
       "      <td>2.114994</td>\n",
       "      <td>0.176360</td>\n",
       "      <td>0.432907</td>\n",
       "    </tr>\n",
       "    <tr>\n",
       "      <th>2</th>\n",
       "      <td>3</td>\n",
       "      <td>19.2099</td>\n",
       "      <td>2.771996</td>\n",
       "      <td>0.450903</td>\n",
       "      <td>0.333948</td>\n",
       "    </tr>\n",
       "    <tr>\n",
       "      <th>3</th>\n",
       "      <td>4</td>\n",
       "      <td>24.1025</td>\n",
       "      <td>3.104996</td>\n",
       "      <td>0.324477</td>\n",
       "      <td>0.378296</td>\n",
       "    </tr>\n",
       "    <tr>\n",
       "      <th>4</th>\n",
       "      <td>5</td>\n",
       "      <td>31.7552</td>\n",
       "      <td>3.563998</td>\n",
       "      <td>0.141639</td>\n",
       "      <td>0.446001</td>\n",
       "    </tr>\n",
       "    <tr>\n",
       "      <th>5</th>\n",
       "      <td>6</td>\n",
       "      <td>38.6712</td>\n",
       "      <td>3.932999</td>\n",
       "      <td>0.187846</td>\n",
       "      <td>0.428594</td>\n",
       "    </tr>\n",
       "    <tr>\n",
       "      <th>6</th>\n",
       "      <td>7</td>\n",
       "      <td>44.7322</td>\n",
       "      <td>4.229998</td>\n",
       "      <td>0.432104</td>\n",
       "      <td>0.340381</td>\n",
       "    </tr>\n",
       "    <tr>\n",
       "      <th>7</th>\n",
       "      <td>8</td>\n",
       "      <td>52.2579</td>\n",
       "      <td>4.571997</td>\n",
       "      <td>0.317607</td>\n",
       "      <td>0.380773</td>\n",
       "    </tr>\n",
       "  </tbody>\n",
       "</table>\n",
       "</div>"
      ],
      "text/plain": [
       "   m       r2       err         s    pvalue\n",
       "0  1   5.1194  1.431000  1.019847  0.173574\n",
       "1  2  11.1830  2.114994  0.176360  0.432907\n",
       "2  3  19.2099  2.771996  0.450903  0.333948\n",
       "3  4  24.1025  3.104996  0.324477  0.378296\n",
       "4  5  31.7552  3.563998  0.141639  0.446001\n",
       "5  6  38.6712  3.932999  0.187846  0.428594\n",
       "6  7  44.7322  4.229998  0.432104  0.340381\n",
       "7  8  52.2579  4.571997  0.317607  0.380773"
      ]
     },
     "execution_count": 48,
     "metadata": {},
     "output_type": "execute_result"
    }
   ],
   "source": [
    "light_circles['s'] = np.abs((light_circles.r2-light_circles.m*7.15+3.49)/light_circles.err)\n",
    "light_circles['pvalue'] = stats.t.sf(light_circles.s, 6)\n",
    "light_circles"
   ]
  },
  {
   "cell_type": "code",
   "execution_count": null,
   "metadata": {},
   "outputs": [],
   "source": []
  }
 ],
 "metadata": {
  "kernelspec": {
   "display_name": "Python 3",
   "language": "python",
   "name": "python3"
  },
  "language_info": {
   "codemirror_mode": {
    "name": "ipython",
    "version": 3
   },
   "file_extension": ".py",
   "mimetype": "text/x-python",
   "name": "python",
   "nbconvert_exporter": "python",
   "pygments_lexer": "ipython3",
   "version": "3.5.2"
  }
 },
 "nbformat": 4,
 "nbformat_minor": 2
}
